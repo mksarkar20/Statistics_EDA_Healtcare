{
 "cells": [
  {
   "cell_type": "code",
   "execution_count": 43,
   "id": "098151fd",
   "metadata": {},
   "outputs": [],
   "source": [
    "import pandas as pd\n",
    "import numpy as np\n",
    "df = pd.read_csv('C:/Users/91706/Documents/Book1.csv', header=[0])"
   ]
  },
  {
   "cell_type": "markdown",
   "id": "66a472b3",
   "metadata": {},
   "source": [
    "# Fertility Rate"
   ]
  },
  {
   "cell_type": "code",
   "execution_count": 44,
   "id": "74fedd4b",
   "metadata": {},
   "outputs": [
    {
     "data": {
      "text/html": [
       "<div>\n",
       "<style scoped>\n",
       "    .dataframe tbody tr th:only-of-type {\n",
       "        vertical-align: middle;\n",
       "    }\n",
       "\n",
       "    .dataframe tbody tr th {\n",
       "        vertical-align: top;\n",
       "    }\n",
       "\n",
       "    .dataframe thead th {\n",
       "        text-align: right;\n",
       "    }\n",
       "</style>\n",
       "<table border=\"1\" class=\"dataframe\">\n",
       "  <thead>\n",
       "    <tr style=\"text-align: right;\">\n",
       "      <th></th>\n",
       "      <th>Rank</th>\n",
       "      <th>Fertility rate 2015-20</th>\n",
       "      <th>Median age Years (2020)</th>\n",
       "      <th>Population 2020</th>\n",
       "      <th>Population Growth (%)</th>\n",
       "    </tr>\n",
       "  </thead>\n",
       "  <tbody>\n",
       "    <tr>\n",
       "      <th>count</th>\n",
       "      <td>201.000000</td>\n",
       "      <td>201.000000</td>\n",
       "      <td>201.000000</td>\n",
       "      <td>2.010000e+02</td>\n",
       "      <td>201.000000</td>\n",
       "    </tr>\n",
       "    <tr>\n",
       "      <th>mean</th>\n",
       "      <td>101.000000</td>\n",
       "      <td>2.687512</td>\n",
       "      <td>30.606030</td>\n",
       "      <td>3.917327e+07</td>\n",
       "      <td>1.169701</td>\n",
       "    </tr>\n",
       "    <tr>\n",
       "      <th>std</th>\n",
       "      <td>58.167861</td>\n",
       "      <td>1.261144</td>\n",
       "      <td>9.168837</td>\n",
       "      <td>1.464139e+08</td>\n",
       "      <td>1.073313</td>\n",
       "    </tr>\n",
       "    <tr>\n",
       "      <th>min</th>\n",
       "      <td>1.000000</td>\n",
       "      <td>1.110000</td>\n",
       "      <td>15.151000</td>\n",
       "      <td>9.872800e+04</td>\n",
       "      <td>-1.190000</td>\n",
       "    </tr>\n",
       "    <tr>\n",
       "      <th>25%</th>\n",
       "      <td>51.000000</td>\n",
       "      <td>1.740000</td>\n",
       "      <td>22.415000</td>\n",
       "      <td>1.866934e+06</td>\n",
       "      <td>0.400000</td>\n",
       "    </tr>\n",
       "    <tr>\n",
       "      <th>50%</th>\n",
       "      <td>101.000000</td>\n",
       "      <td>2.250000</td>\n",
       "      <td>29.906000</td>\n",
       "      <td>8.697547e+06</td>\n",
       "      <td>1.000000</td>\n",
       "    </tr>\n",
       "    <tr>\n",
       "      <th>75%</th>\n",
       "      <td>151.000000</td>\n",
       "      <td>3.580000</td>\n",
       "      <td>39.138000</td>\n",
       "      <td>2.842733e+07</td>\n",
       "      <td>1.930000</td>\n",
       "    </tr>\n",
       "    <tr>\n",
       "      <th>max</th>\n",
       "      <td>201.000000</td>\n",
       "      <td>6.950000</td>\n",
       "      <td>48.358000</td>\n",
       "      <td>1.444216e+09</td>\n",
       "      <td>4.430000</td>\n",
       "    </tr>\n",
       "  </tbody>\n",
       "</table>\n",
       "</div>"
      ],
      "text/plain": [
       "             Rank  Fertility rate 2015-20  Median age Years (2020)  \\\n",
       "count  201.000000              201.000000               201.000000   \n",
       "mean   101.000000                2.687512                30.606030   \n",
       "std     58.167861                1.261144                 9.168837   \n",
       "min      1.000000                1.110000                15.151000   \n",
       "25%     51.000000                1.740000                22.415000   \n",
       "50%    101.000000                2.250000                29.906000   \n",
       "75%    151.000000                3.580000                39.138000   \n",
       "max    201.000000                6.950000                48.358000   \n",
       "\n",
       "       Population 2020  Population Growth (%)  \n",
       "count     2.010000e+02             201.000000  \n",
       "mean      3.917327e+07               1.169701  \n",
       "std       1.464139e+08               1.073313  \n",
       "min       9.872800e+04              -1.190000  \n",
       "25%       1.866934e+06               0.400000  \n",
       "50%       8.697547e+06               1.000000  \n",
       "75%       2.842733e+07               1.930000  \n",
       "max       1.444216e+09               4.430000  "
      ]
     },
     "execution_count": 44,
     "metadata": {},
     "output_type": "execute_result"
    }
   ],
   "source": [
    "df.describe()"
   ]
  },
  {
   "cell_type": "code",
   "execution_count": 45,
   "id": "81332681",
   "metadata": {},
   "outputs": [
    {
     "name": "stdout",
     "output_type": "stream",
     "text": [
      "<class 'pandas.core.frame.DataFrame'>\n",
      "RangeIndex: 201 entries, 0 to 200\n",
      "Data columns (total 7 columns):\n",
      " #   Column                   Non-Null Count  Dtype  \n",
      "---  ------                   --------------  -----  \n",
      " 0   Rank                     201 non-null    int64  \n",
      " 1   Country/Region           201 non-null    object \n",
      " 2   Fertility rate 2015-20   201 non-null    float64\n",
      " 3   Median age Years (2020)  201 non-null    float64\n",
      " 4   Population 2020          201 non-null    int64  \n",
      " 5   Population Growth (%)    201 non-null    float64\n",
      " 6   Continent                201 non-null    object \n",
      "dtypes: float64(3), int64(2), object(2)\n",
      "memory usage: 11.1+ KB\n"
     ]
    }
   ],
   "source": [
    "df.info()"
   ]
  },
  {
   "cell_type": "code",
   "execution_count": 46,
   "id": "e93c843a",
   "metadata": {},
   "outputs": [
    {
     "name": "stderr",
     "output_type": "stream",
     "text": [
      "C:\\Users\\91706\\anaconda3\\lib\\site-packages\\seaborn\\_decorators.py:36: FutureWarning: Pass the following variable as a keyword arg: x. From version 0.12, the only valid positional argument will be `data`, and passing other arguments without an explicit keyword will result in an error or misinterpretation.\n",
      "  warnings.warn(\n"
     ]
    },
    {
     "data": {
      "text/plain": [
       "<AxesSubplot:xlabel='Fertility rate 2015-20'>"
      ]
     },
     "execution_count": 46,
     "metadata": {},
     "output_type": "execute_result"
    },
    {
     "data": {
      "image/png": "[encoded data removed]",
      "text/plain": [
       "<Figure size 432x288 with 1 Axes>"
      ]
     },
     "metadata": {
      "needs_background": "light"
     },
     "output_type": "display_data"
    }
   ],
   "source": [
    "import matplotlib.pyplot as plt\n",
    "import seaborn as sn\n",
    "%matplotlib inline\n",
    "sn.boxplot(df['Fertility rate 2015-20'])"
   ]
  },
  {
   "cell_type": "code",
   "execution_count": 47,
   "id": "56dc342c",
   "metadata": {},
   "outputs": [
    {
     "name": "stdout",
     "output_type": "stream",
     "text": [
      "   Rank                    Country/Region  Fertility rate 2015-20  \\\n",
      "0     1                             Niger                    6.95   \n",
      "1     2                           Somalia                    6.12   \n",
      "2     3  Democratic Republic of the Congo                    5.96   \n",
      "3     4                              Mali                    5.92   \n",
      "4     5                              Chad                    5.80   \n",
      "5     6                            Angola                    5.55   \n",
      "6     7                           Burundi                    5.45   \n",
      "\n",
      "   Median age Years (2020)  Population 2020  Population Growth (%) Continent  \n",
      "0                   15.151         25130810                   3.82    Africa  \n",
      "1                   16.683         16359500                   2.93    Africa  \n",
      "2                   16.988         92377986                   3.14    Africa  \n",
      "3                   16.347         20855724                   2.99    Africa  \n",
      "4                   16.554         16914985                   2.98    Africa  \n",
      "5                   16.677         33933611                   3.25    Africa  \n",
      "6                   17.320         12255429                   3.07    Africa  \n"
     ]
    }
   ],
   "source": [
    "IQR=df['Fertility rate 2015-20'].quantile(0.75)-df['Fertility rate 2015-20'].quantile(0.25)\n",
    "print(df[df['Fertility rate 2015-20']>(IQR+df['Fertility rate 2015-20'].quantile(0.75))])"
   ]
  },
  {
   "cell_type": "markdown",
   "id": "44a0a6ce",
   "metadata": {},
   "source": [
    "# Health Expenditure as % of GDP"
   ]
  },
  {
   "cell_type": "code",
   "execution_count": 48,
   "id": "8d378ea8",
   "metadata": {},
   "outputs": [],
   "source": [
    "df1 = pd.read_csv('C:/Users/91706/Documents/GDP.csv', header=[0])"
   ]
  },
  {
   "cell_type": "code",
   "execution_count": 49,
   "id": "3f503c13",
   "metadata": {},
   "outputs": [
    {
     "name": "stdout",
     "output_type": "stream",
     "text": [
      "<class 'pandas.core.frame.DataFrame'>\n",
      "RangeIndex: 65501 entries, 0 to 65500\n",
      "Data columns (total 6 columns):\n",
      " #   Column                    Non-Null Count  Dtype  \n",
      "---  ------                    --------------  -----  \n",
      " 0   Countries                 235 non-null    object \n",
      " 1   2015                      231 non-null    float64\n",
      " 2   2016                      231 non-null    float64\n",
      " 3   2017                      232 non-null    float64\n",
      " 4   2018                      232 non-null    float64\n",
      " 5   Health Expenditure(2019)  231 non-null    float64\n",
      "dtypes: float64(5), object(1)\n",
      "memory usage: 3.0+ MB\n"
     ]
    }
   ],
   "source": [
    "df1.info()"
   ]
  },
  {
   "cell_type": "code",
   "execution_count": 50,
   "id": "114a93d6",
   "metadata": {},
   "outputs": [
    {
     "data": {
      "text/html": [
       "<div>\n",
       "<style scoped>\n",
       "    .dataframe tbody tr th:only-of-type {\n",
       "        vertical-align: middle;\n",
       "    }\n",
       "\n",
       "    .dataframe tbody tr th {\n",
       "        vertical-align: top;\n",
       "    }\n",
       "\n",
       "    .dataframe thead th {\n",
       "        text-align: right;\n",
       "    }\n",
       "</style>\n",
       "<table border=\"1\" class=\"dataframe\">\n",
       "  <thead>\n",
       "    <tr style=\"text-align: right;\">\n",
       "      <th></th>\n",
       "      <th>2015</th>\n",
       "      <th>2016</th>\n",
       "      <th>2017</th>\n",
       "      <th>2018</th>\n",
       "      <th>Health Expenditure(2019)</th>\n",
       "    </tr>\n",
       "  </thead>\n",
       "  <tbody>\n",
       "    <tr>\n",
       "      <th>count</th>\n",
       "      <td>231.000000</td>\n",
       "      <td>231.000000</td>\n",
       "      <td>232.000000</td>\n",
       "      <td>232.000000</td>\n",
       "      <td>231.000000</td>\n",
       "    </tr>\n",
       "    <tr>\n",
       "      <th>mean</th>\n",
       "      <td>6.532572</td>\n",
       "      <td>6.541533</td>\n",
       "      <td>6.500667</td>\n",
       "      <td>6.476799</td>\n",
       "      <td>6.544317</td>\n",
       "    </tr>\n",
       "    <tr>\n",
       "      <th>std</th>\n",
       "      <td>2.904099</td>\n",
       "      <td>2.846173</td>\n",
       "      <td>2.789156</td>\n",
       "      <td>2.863630</td>\n",
       "      <td>2.996799</td>\n",
       "    </tr>\n",
       "    <tr>\n",
       "      <th>min</th>\n",
       "      <td>1.818817</td>\n",
       "      <td>1.627531</td>\n",
       "      <td>1.642748</td>\n",
       "      <td>1.596288</td>\n",
       "      <td>1.525117</td>\n",
       "    </tr>\n",
       "    <tr>\n",
       "      <th>25%</th>\n",
       "      <td>4.600733</td>\n",
       "      <td>4.592513</td>\n",
       "      <td>4.629258</td>\n",
       "      <td>4.491768</td>\n",
       "      <td>4.485628</td>\n",
       "    </tr>\n",
       "    <tr>\n",
       "      <th>50%</th>\n",
       "      <td>5.726299</td>\n",
       "      <td>5.827603</td>\n",
       "      <td>6.013862</td>\n",
       "      <td>5.855378</td>\n",
       "      <td>5.861340</td>\n",
       "    </tr>\n",
       "    <tr>\n",
       "      <th>75%</th>\n",
       "      <td>7.870143</td>\n",
       "      <td>7.955833</td>\n",
       "      <td>8.091707</td>\n",
       "      <td>8.130085</td>\n",
       "      <td>7.973498</td>\n",
       "    </tr>\n",
       "    <tr>\n",
       "      <th>max</th>\n",
       "      <td>20.413414</td>\n",
       "      <td>17.373610</td>\n",
       "      <td>16.805836</td>\n",
       "      <td>19.036005</td>\n",
       "      <td>23.961813</td>\n",
       "    </tr>\n",
       "  </tbody>\n",
       "</table>\n",
       "</div>"
      ],
      "text/plain": [
       "             2015        2016        2017        2018  \\\n",
       "count  231.000000  231.000000  232.000000  232.000000   \n",
       "mean     6.532572    6.541533    6.500667    6.476799   \n",
       "std      2.904099    2.846173    2.789156    2.863630   \n",
       "min      1.818817    1.627531    1.642748    1.596288   \n",
       "25%      4.600733    4.592513    4.629258    4.491768   \n",
       "50%      5.726299    5.827603    6.013862    5.855378   \n",
       "75%      7.870143    7.955833    8.091707    8.130085   \n",
       "max     20.413414   17.373610   16.805836   19.036005   \n",
       "\n",
       "       Health Expenditure(2019)  \n",
       "count                231.000000  \n",
       "mean                   6.544317  \n",
       "std                    2.996799  \n",
       "min                    1.525117  \n",
       "25%                    4.485628  \n",
       "50%                    5.861340  \n",
       "75%                    7.973498  \n",
       "max                   23.961813  "
      ]
     },
     "execution_count": 50,
     "metadata": {},
     "output_type": "execute_result"
    }
   ],
   "source": [
    "df1.describe()"
   ]
  },
  {
   "cell_type": "code",
   "execution_count": 51,
   "id": "f920dc74",
   "metadata": {},
   "outputs": [
    {
     "data": {
      "text/html": [
       "<div>\n",
       "<style scoped>\n",
       "    .dataframe tbody tr th:only-of-type {\n",
       "        vertical-align: middle;\n",
       "    }\n",
       "\n",
       "    .dataframe tbody tr th {\n",
       "        vertical-align: top;\n",
       "    }\n",
       "\n",
       "    .dataframe thead th {\n",
       "        text-align: right;\n",
       "    }\n",
       "</style>\n",
       "<table border=\"1\" class=\"dataframe\">\n",
       "  <thead>\n",
       "    <tr style=\"text-align: right;\">\n",
       "      <th></th>\n",
       "      <th>Countries</th>\n",
       "      <th>2015</th>\n",
       "      <th>2016</th>\n",
       "      <th>2017</th>\n",
       "      <th>2018</th>\n",
       "      <th>Health Expenditure(2019)</th>\n",
       "    </tr>\n",
       "  </thead>\n",
       "  <tbody>\n",
       "    <tr>\n",
       "      <th>0</th>\n",
       "      <td>Africa Eastern and Southern</td>\n",
       "      <td>6.482263</td>\n",
       "      <td>6.390654</td>\n",
       "      <td>6.317654</td>\n",
       "      <td>6.286829</td>\n",
       "      <td>6.266386</td>\n",
       "    </tr>\n",
       "    <tr>\n",
       "      <th>1</th>\n",
       "      <td>Afghanistan</td>\n",
       "      <td>10.105348</td>\n",
       "      <td>11.818562</td>\n",
       "      <td>12.620817</td>\n",
       "      <td>14.126743</td>\n",
       "      <td>13.242202</td>\n",
       "    </tr>\n",
       "    <tr>\n",
       "      <th>2</th>\n",
       "      <td>Africa Western and Central</td>\n",
       "      <td>3.834676</td>\n",
       "      <td>3.811248</td>\n",
       "      <td>3.789624</td>\n",
       "      <td>3.393160</td>\n",
       "      <td>3.366100</td>\n",
       "    </tr>\n",
       "    <tr>\n",
       "      <th>3</th>\n",
       "      <td>Angola</td>\n",
       "      <td>2.605795</td>\n",
       "      <td>2.713149</td>\n",
       "      <td>2.791503</td>\n",
       "      <td>2.540102</td>\n",
       "      <td>2.533360</td>\n",
       "    </tr>\n",
       "    <tr>\n",
       "      <th>5</th>\n",
       "      <td>Andorra</td>\n",
       "      <td>6.283535</td>\n",
       "      <td>6.305263</td>\n",
       "      <td>6.589455</td>\n",
       "      <td>6.751625</td>\n",
       "      <td>6.711585</td>\n",
       "    </tr>\n",
       "    <tr>\n",
       "      <th>...</th>\n",
       "      <td>...</td>\n",
       "      <td>...</td>\n",
       "      <td>...</td>\n",
       "      <td>...</td>\n",
       "      <td>...</td>\n",
       "      <td>...</td>\n",
       "    </tr>\n",
       "    <tr>\n",
       "      <th>230</th>\n",
       "      <td>World</td>\n",
       "      <td>9.737717</td>\n",
       "      <td>9.862693</td>\n",
       "      <td>9.766083</td>\n",
       "      <td>9.704847</td>\n",
       "      <td>9.830785</td>\n",
       "    </tr>\n",
       "    <tr>\n",
       "      <th>231</th>\n",
       "      <td>Samoa</td>\n",
       "      <td>5.787550</td>\n",
       "      <td>5.425002</td>\n",
       "      <td>5.567507</td>\n",
       "      <td>5.471911</td>\n",
       "      <td>6.363094</td>\n",
       "    </tr>\n",
       "    <tr>\n",
       "      <th>232</th>\n",
       "      <td>South Africa</td>\n",
       "      <td>8.790190</td>\n",
       "      <td>8.821429</td>\n",
       "      <td>8.722624</td>\n",
       "      <td>8.858297</td>\n",
       "      <td>9.109355</td>\n",
       "    </tr>\n",
       "    <tr>\n",
       "      <th>233</th>\n",
       "      <td>Zambia</td>\n",
       "      <td>4.435102</td>\n",
       "      <td>4.477207</td>\n",
       "      <td>4.376977</td>\n",
       "      <td>5.032715</td>\n",
       "      <td>5.312203</td>\n",
       "    </tr>\n",
       "    <tr>\n",
       "      <th>234</th>\n",
       "      <td>Zimbabwe</td>\n",
       "      <td>7.452066</td>\n",
       "      <td>7.675163</td>\n",
       "      <td>7.469752</td>\n",
       "      <td>8.680062</td>\n",
       "      <td>7.703565</td>\n",
       "    </tr>\n",
       "  </tbody>\n",
       "</table>\n",
       "<p>230 rows × 6 columns</p>\n",
       "</div>"
      ],
      "text/plain": [
       "                       Countries       2015       2016       2017       2018  \\\n",
       "0    Africa Eastern and Southern   6.482263   6.390654   6.317654   6.286829   \n",
       "1                    Afghanistan  10.105348  11.818562  12.620817  14.126743   \n",
       "2     Africa Western and Central   3.834676   3.811248   3.789624   3.393160   \n",
       "3                         Angola   2.605795   2.713149   2.791503   2.540102   \n",
       "5                        Andorra   6.283535   6.305263   6.589455   6.751625   \n",
       "..                           ...        ...        ...        ...        ...   \n",
       "230                        World   9.737717   9.862693   9.766083   9.704847   \n",
       "231                        Samoa   5.787550   5.425002   5.567507   5.471911   \n",
       "232                 South Africa   8.790190   8.821429   8.722624   8.858297   \n",
       "233                       Zambia   4.435102   4.477207   4.376977   5.032715   \n",
       "234                     Zimbabwe   7.452066   7.675163   7.469752   8.680062   \n",
       "\n",
       "     Health Expenditure(2019)  \n",
       "0                    6.266386  \n",
       "1                   13.242202  \n",
       "2                    3.366100  \n",
       "3                    2.533360  \n",
       "5                    6.711585  \n",
       "..                        ...  \n",
       "230                  9.830785  \n",
       "231                  6.363094  \n",
       "232                  9.109355  \n",
       "233                  5.312203  \n",
       "234                  7.703565  \n",
       "\n",
       "[230 rows x 6 columns]"
      ]
     },
     "execution_count": 51,
     "metadata": {},
     "output_type": "execute_result"
    }
   ],
   "source": [
    "df1.dropna()"
   ]
  },
  {
   "cell_type": "code",
   "execution_count": 52,
   "id": "91a72676",
   "metadata": {},
   "outputs": [
    {
     "name": "stderr",
     "output_type": "stream",
     "text": [
      "C:\\Users\\91706\\anaconda3\\lib\\site-packages\\seaborn\\_decorators.py:36: FutureWarning: Pass the following variable as a keyword arg: x. From version 0.12, the only valid positional argument will be `data`, and passing other arguments without an explicit keyword will result in an error or misinterpretation.\n",
      "  warnings.warn(\n"
     ]
    },
    {
     "data": {
      "text/plain": [
       "<AxesSubplot:xlabel='Health Expenditure(2019)'>"
      ]
     },
     "execution_count": 52,
     "metadata": {},
     "output_type": "execute_result"
    },
    {
     "data": {
      "image/png": "[encoded data removed]",
      "text/plain": [
       "<Figure size 432x288 with 1 Axes>"
      ]
     },
     "metadata": {
      "needs_background": "light"
     },
     "output_type": "display_data"
    }
   ],
   "source": [
    "sn.boxplot(df1['Health Expenditure(2019)'])"
   ]
  },
  {
   "cell_type": "code",
   "execution_count": 93,
   "id": "a14ed8b5",
   "metadata": {},
   "outputs": [
    {
     "name": "stdout",
     "output_type": "stream",
     "text": [
      "                     Countries       2015       2016       2017       2018  \\\n",
      "1                  Afghanistan  10.105348  11.818562  12.620817  14.126743   \n",
      "48                     Germany  11.183703  11.235637  11.329351  11.450389   \n",
      "85                 High income  12.246652  12.414776  12.367972  12.292041   \n",
      "138           Marshall Islands  17.035698  17.373610  16.077784  17.002190   \n",
      "152              North America  16.067980  16.404480  16.339798  16.231147   \n",
      "162               OECD members  12.232928  12.409646  12.363648  12.333836   \n",
      "169                      Palau  11.434674  12.123857  12.044226  10.848885   \n",
      "176  Post-demographic dividend  12.686043  12.849469  12.806208  12.756390   \n",
      "218                     Tuvalu  16.699593  15.609964  16.778526  19.036005   \n",
      "224              United States  16.524073  16.844324  16.805836  16.687105   \n",
      "\n",
      "     Health Expenditure(2019)  \n",
      "1                   13.242202  \n",
      "48                  11.697249  \n",
      "85                  12.491098  \n",
      "138                 16.341400  \n",
      "152                 16.320712  \n",
      "162                 12.528427  \n",
      "169                 15.150489  \n",
      "176                 12.956478  \n",
      "218                 23.961813  \n",
      "224                 16.767063  \n"
     ]
    }
   ],
   "source": [
    "IQR=df1['Health Expenditure(2019)'].quantile(0.75)-df1['Health Expenditure(2019)'].quantile(0.25)\n",
    "print(df1[df1['Health Expenditure(2019)']>(IQR+df1['Health Expenditure(2019)'].quantile(0.75))])"
   ]
  },
  {
   "cell_type": "code",
   "execution_count": 54,
   "id": "1eee6f7d",
   "metadata": {},
   "outputs": [
    {
     "data": {
      "text/html": [
       "<div>\n",
       "<style scoped>\n",
       "    .dataframe tbody tr th:only-of-type {\n",
       "        vertical-align: middle;\n",
       "    }\n",
       "\n",
       "    .dataframe tbody tr th {\n",
       "        vertical-align: top;\n",
       "    }\n",
       "\n",
       "    .dataframe thead th {\n",
       "        text-align: right;\n",
       "    }\n",
       "</style>\n",
       "<table border=\"1\" class=\"dataframe\">\n",
       "  <thead>\n",
       "    <tr style=\"text-align: right;\">\n",
       "      <th></th>\n",
       "      <th>2015</th>\n",
       "      <th>2016</th>\n",
       "      <th>2017</th>\n",
       "      <th>2018</th>\n",
       "      <th>Health Expenditure(2019)</th>\n",
       "    </tr>\n",
       "  </thead>\n",
       "  <tbody>\n",
       "    <tr>\n",
       "      <th>count</th>\n",
       "      <td>231.000000</td>\n",
       "      <td>231.000000</td>\n",
       "      <td>232.000000</td>\n",
       "      <td>232.000000</td>\n",
       "      <td>231.000000</td>\n",
       "    </tr>\n",
       "    <tr>\n",
       "      <th>mean</th>\n",
       "      <td>6.532572</td>\n",
       "      <td>6.541533</td>\n",
       "      <td>6.500667</td>\n",
       "      <td>6.476799</td>\n",
       "      <td>6.544317</td>\n",
       "    </tr>\n",
       "    <tr>\n",
       "      <th>std</th>\n",
       "      <td>2.904099</td>\n",
       "      <td>2.846173</td>\n",
       "      <td>2.789156</td>\n",
       "      <td>2.863630</td>\n",
       "      <td>2.996799</td>\n",
       "    </tr>\n",
       "    <tr>\n",
       "      <th>min</th>\n",
       "      <td>1.818817</td>\n",
       "      <td>1.627531</td>\n",
       "      <td>1.642748</td>\n",
       "      <td>1.596288</td>\n",
       "      <td>1.525117</td>\n",
       "    </tr>\n",
       "    <tr>\n",
       "      <th>25%</th>\n",
       "      <td>4.600733</td>\n",
       "      <td>4.592513</td>\n",
       "      <td>4.629258</td>\n",
       "      <td>4.491768</td>\n",
       "      <td>4.485628</td>\n",
       "    </tr>\n",
       "    <tr>\n",
       "      <th>50%</th>\n",
       "      <td>5.726299</td>\n",
       "      <td>5.827603</td>\n",
       "      <td>6.013862</td>\n",
       "      <td>5.855378</td>\n",
       "      <td>5.861340</td>\n",
       "    </tr>\n",
       "    <tr>\n",
       "      <th>75%</th>\n",
       "      <td>7.870143</td>\n",
       "      <td>7.955833</td>\n",
       "      <td>8.091707</td>\n",
       "      <td>8.130085</td>\n",
       "      <td>7.973498</td>\n",
       "    </tr>\n",
       "    <tr>\n",
       "      <th>max</th>\n",
       "      <td>20.413414</td>\n",
       "      <td>17.373610</td>\n",
       "      <td>16.805836</td>\n",
       "      <td>19.036005</td>\n",
       "      <td>23.961813</td>\n",
       "    </tr>\n",
       "  </tbody>\n",
       "</table>\n",
       "</div>"
      ],
      "text/plain": [
       "             2015        2016        2017        2018  \\\n",
       "count  231.000000  231.000000  232.000000  232.000000   \n",
       "mean     6.532572    6.541533    6.500667    6.476799   \n",
       "std      2.904099    2.846173    2.789156    2.863630   \n",
       "min      1.818817    1.627531    1.642748    1.596288   \n",
       "25%      4.600733    4.592513    4.629258    4.491768   \n",
       "50%      5.726299    5.827603    6.013862    5.855378   \n",
       "75%      7.870143    7.955833    8.091707    8.130085   \n",
       "max     20.413414   17.373610   16.805836   19.036005   \n",
       "\n",
       "       Health Expenditure(2019)  \n",
       "count                231.000000  \n",
       "mean                   6.544317  \n",
       "std                    2.996799  \n",
       "min                    1.525117  \n",
       "25%                    4.485628  \n",
       "50%                    5.861340  \n",
       "75%                    7.973498  \n",
       "max                   23.961813  "
      ]
     },
     "execution_count": 54,
     "metadata": {},
     "output_type": "execute_result"
    }
   ],
   "source": [
    "df1.describe()"
   ]
  },
  {
   "cell_type": "code",
   "execution_count": 55,
   "id": "dca6f025",
   "metadata": {},
   "outputs": [
    {
     "name": "stderr",
     "output_type": "stream",
     "text": [
      "C:\\Users\\91706\\AppData\\Local\\Temp\\ipykernel_16408\\2279417019.py:1: FutureWarning: Dropping of nuisance columns in DataFrame reductions (with 'numeric_only=None') is deprecated; in a future version this will raise TypeError.  Select only valid columns before calling the reduction.\n",
      "  df1.median()\n"
     ]
    },
    {
     "data": {
      "text/plain": [
       "2015                        5.726299\n",
       "2016                        5.827603\n",
       "2017                        6.013862\n",
       "2018                        5.855378\n",
       "Health Expenditure(2019)    5.861340\n",
       "dtype: float64"
      ]
     },
     "execution_count": 55,
     "metadata": {},
     "output_type": "execute_result"
    }
   ],
   "source": [
    "df1.median()"
   ]
  },
  {
   "cell_type": "markdown",
   "id": "1a1739b5",
   "metadata": {},
   "source": [
    "# Child Mortality Rate"
   ]
  },
  {
   "cell_type": "code",
   "execution_count": 81,
   "id": "e2b97cdc",
   "metadata": {},
   "outputs": [],
   "source": [
    "df3=pd.read_csv('C:/Users/91706/Documents/ChildMortalityR.csv',header=[0])"
   ]
  },
  {
   "cell_type": "code",
   "execution_count": 71,
   "id": "28e9fb08",
   "metadata": {},
   "outputs": [
    {
     "name": "stdout",
     "output_type": "stream",
     "text": [
      "<class 'pandas.core.frame.DataFrame'>\n",
      "RangeIndex: 266 entries, 0 to 265\n",
      "Data columns (total 2 columns):\n",
      " #   Column        Non-Null Count  Dtype  \n",
      "---  ------        --------------  -----  \n",
      " 0   Country Name  266 non-null    object \n",
      " 1   2019          241 non-null    float64\n",
      "dtypes: float64(1), object(1)\n",
      "memory usage: 4.3+ KB\n"
     ]
    }
   ],
   "source": [
    "df3.info()"
   ]
  },
  {
   "cell_type": "code",
   "execution_count": 72,
   "id": "7bb85eb6",
   "metadata": {},
   "outputs": [
    {
     "data": {
      "text/html": [
       "<div>\n",
       "<style scoped>\n",
       "    .dataframe tbody tr th:only-of-type {\n",
       "        vertical-align: middle;\n",
       "    }\n",
       "\n",
       "    .dataframe tbody tr th {\n",
       "        vertical-align: top;\n",
       "    }\n",
       "\n",
       "    .dataframe thead th {\n",
       "        text-align: right;\n",
       "    }\n",
       "</style>\n",
       "<table border=\"1\" class=\"dataframe\">\n",
       "  <thead>\n",
       "    <tr style=\"text-align: right;\">\n",
       "      <th></th>\n",
       "      <th>2019</th>\n",
       "    </tr>\n",
       "  </thead>\n",
       "  <tbody>\n",
       "    <tr>\n",
       "      <th>count</th>\n",
       "      <td>241.000000</td>\n",
       "    </tr>\n",
       "    <tr>\n",
       "      <th>mean</th>\n",
       "      <td>29.216753</td>\n",
       "    </tr>\n",
       "    <tr>\n",
       "      <th>std</th>\n",
       "      <td>27.875765</td>\n",
       "    </tr>\n",
       "    <tr>\n",
       "      <th>min</th>\n",
       "      <td>1.800000</td>\n",
       "    </tr>\n",
       "    <tr>\n",
       "      <th>25%</th>\n",
       "      <td>7.000000</td>\n",
       "    </tr>\n",
       "    <tr>\n",
       "      <th>50%</th>\n",
       "      <td>17.208326</td>\n",
       "    </tr>\n",
       "    <tr>\n",
       "      <th>75%</th>\n",
       "      <td>43.700000</td>\n",
       "    </tr>\n",
       "    <tr>\n",
       "      <th>max</th>\n",
       "      <td>118.300000</td>\n",
       "    </tr>\n",
       "  </tbody>\n",
       "</table>\n",
       "</div>"
      ],
      "text/plain": [
       "             2019\n",
       "count  241.000000\n",
       "mean    29.216753\n",
       "std     27.875765\n",
       "min      1.800000\n",
       "25%      7.000000\n",
       "50%     17.208326\n",
       "75%     43.700000\n",
       "max    118.300000"
      ]
     },
     "execution_count": 72,
     "metadata": {},
     "output_type": "execute_result"
    }
   ],
   "source": [
    "df3.describe()"
   ]
  },
  {
   "cell_type": "code",
   "execution_count": 73,
   "id": "92e64157",
   "metadata": {},
   "outputs": [
    {
     "data": {
      "text/html": [
       "<div>\n",
       "<style scoped>\n",
       "    .dataframe tbody tr th:only-of-type {\n",
       "        vertical-align: middle;\n",
       "    }\n",
       "\n",
       "    .dataframe tbody tr th {\n",
       "        vertical-align: top;\n",
       "    }\n",
       "\n",
       "    .dataframe thead th {\n",
       "        text-align: right;\n",
       "    }\n",
       "</style>\n",
       "<table border=\"1\" class=\"dataframe\">\n",
       "  <thead>\n",
       "    <tr style=\"text-align: right;\">\n",
       "      <th></th>\n",
       "      <th>Country Name</th>\n",
       "      <th>2019</th>\n",
       "    </tr>\n",
       "  </thead>\n",
       "  <tbody>\n",
       "    <tr>\n",
       "      <th>0</th>\n",
       "      <td>Aruba</td>\n",
       "      <td>NaN</td>\n",
       "    </tr>\n",
       "    <tr>\n",
       "      <th>1</th>\n",
       "      <td>Africa Eastern and Southern</td>\n",
       "      <td>60.054150</td>\n",
       "    </tr>\n",
       "    <tr>\n",
       "      <th>2</th>\n",
       "      <td>Afghanistan</td>\n",
       "      <td>60.100000</td>\n",
       "    </tr>\n",
       "    <tr>\n",
       "      <th>3</th>\n",
       "      <td>Africa Western and Central</td>\n",
       "      <td>96.494289</td>\n",
       "    </tr>\n",
       "    <tr>\n",
       "      <th>4</th>\n",
       "      <td>Angola</td>\n",
       "      <td>74.200000</td>\n",
       "    </tr>\n",
       "  </tbody>\n",
       "</table>\n",
       "</div>"
      ],
      "text/plain": [
       "                  Country Name       2019\n",
       "0                        Aruba        NaN\n",
       "1  Africa Eastern and Southern  60.054150\n",
       "2                  Afghanistan  60.100000\n",
       "3   Africa Western and Central  96.494289\n",
       "4                       Angola  74.200000"
      ]
     },
     "execution_count": 73,
     "metadata": {},
     "output_type": "execute_result"
    }
   ],
   "source": [
    "df3.head()"
   ]
  },
  {
   "cell_type": "code",
   "execution_count": 74,
   "id": "efe3b7c1",
   "metadata": {},
   "outputs": [
    {
     "data": {
      "text/html": [
       "<div>\n",
       "<style scoped>\n",
       "    .dataframe tbody tr th:only-of-type {\n",
       "        vertical-align: middle;\n",
       "    }\n",
       "\n",
       "    .dataframe tbody tr th {\n",
       "        vertical-align: top;\n",
       "    }\n",
       "\n",
       "    .dataframe thead th {\n",
       "        text-align: right;\n",
       "    }\n",
       "</style>\n",
       "<table border=\"1\" class=\"dataframe\">\n",
       "  <thead>\n",
       "    <tr style=\"text-align: right;\">\n",
       "      <th></th>\n",
       "      <th>Country Name</th>\n",
       "      <th>2019</th>\n",
       "    </tr>\n",
       "  </thead>\n",
       "  <tbody>\n",
       "    <tr>\n",
       "      <th>1</th>\n",
       "      <td>Africa Eastern and Southern</td>\n",
       "      <td>60.054150</td>\n",
       "    </tr>\n",
       "    <tr>\n",
       "      <th>2</th>\n",
       "      <td>Afghanistan</td>\n",
       "      <td>60.100000</td>\n",
       "    </tr>\n",
       "    <tr>\n",
       "      <th>3</th>\n",
       "      <td>Africa Western and Central</td>\n",
       "      <td>96.494289</td>\n",
       "    </tr>\n",
       "    <tr>\n",
       "      <th>4</th>\n",
       "      <td>Angola</td>\n",
       "      <td>74.200000</td>\n",
       "    </tr>\n",
       "    <tr>\n",
       "      <th>5</th>\n",
       "      <td>Albania</td>\n",
       "      <td>9.700000</td>\n",
       "    </tr>\n",
       "    <tr>\n",
       "      <th>...</th>\n",
       "      <td>...</td>\n",
       "      <td>...</td>\n",
       "    </tr>\n",
       "    <tr>\n",
       "      <th>260</th>\n",
       "      <td>Samoa</td>\n",
       "      <td>17.400000</td>\n",
       "    </tr>\n",
       "    <tr>\n",
       "      <th>262</th>\n",
       "      <td>Yemen, Rep.</td>\n",
       "      <td>61.500000</td>\n",
       "    </tr>\n",
       "    <tr>\n",
       "      <th>263</th>\n",
       "      <td>South Africa</td>\n",
       "      <td>33.000000</td>\n",
       "    </tr>\n",
       "    <tr>\n",
       "      <th>264</th>\n",
       "      <td>Zambia</td>\n",
       "      <td>64.100000</td>\n",
       "    </tr>\n",
       "    <tr>\n",
       "      <th>265</th>\n",
       "      <td>Zimbabwe</td>\n",
       "      <td>54.200000</td>\n",
       "    </tr>\n",
       "  </tbody>\n",
       "</table>\n",
       "<p>241 rows × 2 columns</p>\n",
       "</div>"
      ],
      "text/plain": [
       "                    Country Name       2019\n",
       "1    Africa Eastern and Southern  60.054150\n",
       "2                    Afghanistan  60.100000\n",
       "3     Africa Western and Central  96.494289\n",
       "4                         Angola  74.200000\n",
       "5                        Albania   9.700000\n",
       "..                           ...        ...\n",
       "260                        Samoa  17.400000\n",
       "262                  Yemen, Rep.  61.500000\n",
       "263                 South Africa  33.000000\n",
       "264                       Zambia  64.100000\n",
       "265                     Zimbabwe  54.200000\n",
       "\n",
       "[241 rows x 2 columns]"
      ]
     },
     "execution_count": 74,
     "metadata": {},
     "output_type": "execute_result"
    }
   ],
   "source": [
    "df3.dropna()"
   ]
  },
  {
   "cell_type": "code",
   "execution_count": 75,
   "id": "470ef0b5",
   "metadata": {},
   "outputs": [
    {
     "name": "stderr",
     "output_type": "stream",
     "text": [
      "C:\\Users\\91706\\anaconda3\\lib\\site-packages\\seaborn\\_decorators.py:36: FutureWarning: Pass the following variable as a keyword arg: x. From version 0.12, the only valid positional argument will be `data`, and passing other arguments without an explicit keyword will result in an error or misinterpretation.\n",
      "  warnings.warn(\n"
     ]
    },
    {
     "data": {
      "text/plain": [
       "<AxesSubplot:xlabel='2019'>"
      ]
     },
     "execution_count": 75,
     "metadata": {},
     "output_type": "execute_result"
    },
    {
     "data": {
      "image/png": "[encoded data removed]",
      "text/plain": [
       "<Figure size 432x288 with 1 Axes>"
      ]
     },
     "metadata": {
      "needs_background": "light"
     },
     "output_type": "display_data"
    }
   ],
   "source": [
    "sn.boxplot(df3['2019'])"
   ]
  },
  {
   "cell_type": "code",
   "execution_count": 77,
   "id": "5a7bee7d",
   "metadata": {},
   "outputs": [
    {
     "name": "stdout",
     "output_type": "stream",
     "text": [
      "                   Country Name        2019\n",
      "3    Africa Western and Central   96.494289\n",
      "18                        Benin   88.400000\n",
      "19                 Burkina Faso   87.800000\n",
      "34     Central African Republic  106.600000\n",
      "43             Congo, Dem. Rep.   83.800000\n",
      "85                       Guinea   98.000000\n",
      "88            Equatorial Guinea   81.200000\n",
      "105                   IDA blend   83.930011\n",
      "141                     Lesotho   90.900000\n",
      "158                        Mali   94.200000\n",
      "174                     Nigeria  116.900000\n",
      "210                Sierra Leone  111.900000\n",
      "213                     Somalia  118.300000\n",
      "216                 South Sudan   97.900000\n",
      "229                        Chad  113.500000\n"
     ]
    }
   ],
   "source": [
    "IQR=df3['2019'].quantile(0.75)-df3['2019'].quantile(0.25)\n",
    "print(df3[df3['2019']>(IQR+df3['2019'].quantile(0.75))])"
   ]
  },
  {
   "cell_type": "code",
   "execution_count": 78,
   "id": "407cc531",
   "metadata": {},
   "outputs": [
    {
     "name": "stderr",
     "output_type": "stream",
     "text": [
      "C:\\Users\\91706\\AppData\\Local\\Temp\\ipykernel_16408\\3131045010.py:1: FutureWarning: Dropping of nuisance columns in DataFrame reductions (with 'numeric_only=None') is deprecated; in a future version this will raise TypeError.  Select only valid columns before calling the reduction.\n",
      "  df3.median()\n"
     ]
    },
    {
     "data": {
      "text/plain": [
       "2019    17.208326\n",
       "dtype: float64"
      ]
     },
     "execution_count": 78,
     "metadata": {},
     "output_type": "execute_result"
    }
   ],
   "source": [
    "df3.median()"
   ]
  },
  {
   "cell_type": "code",
   "execution_count": null,
   "id": "2906a034",
   "metadata": {},
   "outputs": [],
   "source": []
  }
 ],
 "metadata": {
  "kernelspec": {
   "display_name": "Python 3 (ipykernel)",
   "language": "python",
   "name": "python3"
  },
  "language_info": {
   "codemirror_mode": {
    "name": "ipython",
    "version": 3
   },
   "file_extension": ".py",
   "mimetype": "text/x-python",
   "name": "python",
   "nbconvert_exporter": "python",
   "pygments_lexer": "ipython3",
   "version": "3.9.12"
  }
 },
 "nbformat": 4,
 "nbformat_minor": 5
}
